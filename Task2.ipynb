{
 "cells": [
  {
   "cell_type": "code",
   "execution_count": 1,
   "metadata": {
    "_cell_guid": "79c7e3d0-c299-4dcb-8224-4455121ee9b0",
    "_uuid": "d629ff2d2480ee46fbb7e2d37f6b5fab8052498a",
    "pycharm": {
     "name": "#%%\n"
    }
   },
   "outputs": [],
   "source": [
    "import tensorflow as tf\n",
    "import numpy as np\n",
    "import pandas as pd\n",
    "\n",
    "from sklearn.model_selection import train_test_split\n",
    "from sklearn.metrics import accuracy_score, classification_report\n",
    "from collections import Counter\n",
    "\n",
    "from tensorflow.keras.preprocessing.text import Tokenizer\n",
    "from tensorflow.keras.preprocessing.sequence import pad_sequences\n",
    "\n",
    "import matplotlib.pyplot as plt\n",
    "\n",
    "plt.style.use('ggplot')\n",
    "\n",
    "import re\n",
    "import nltk\n",
    "from nltk.stem import WordNetLemmatizer"
   ]
  },
  {
   "cell_type": "code",
   "execution_count": 40,
   "metadata": {
    "pycharm": {
     "name": "#%%\n"
    }
   },
   "outputs": [],
   "source": [
    "# df = pd.read_csv(\"data/imdb.csv\", sep=',')\n",
    "df = pd.read_csv(\"data/rt/rt.csv\", sep=',')"
   ]
  },
  {
   "cell_type": "code",
   "execution_count": 41,
   "metadata": {
    "pycharm": {
     "name": "#%%\n"
    }
   },
   "outputs": [
    {
     "data": {
      "text/plain": "                                              review sentiment\n0  the rock is destined to be the 21st century's ...  positive\n1  the gorgeously elaborate continuation of \" the...  positive\n2                     effective but too-tepid biopic  positive\n3  if you sometimes like to go to the movies to h...  positive\n4  emerges as something rare , an issue movie tha...  positive",
      "text/html": "<div>\n<style scoped>\n    .dataframe tbody tr th:only-of-type {\n        vertical-align: middle;\n    }\n\n    .dataframe tbody tr th {\n        vertical-align: top;\n    }\n\n    .dataframe thead th {\n        text-align: right;\n    }\n</style>\n<table border=\"1\" class=\"dataframe\">\n  <thead>\n    <tr style=\"text-align: right;\">\n      <th></th>\n      <th>review</th>\n      <th>sentiment</th>\n    </tr>\n  </thead>\n  <tbody>\n    <tr>\n      <th>0</th>\n      <td>the rock is destined to be the 21st century's ...</td>\n      <td>positive</td>\n    </tr>\n    <tr>\n      <th>1</th>\n      <td>the gorgeously elaborate continuation of \" the...</td>\n      <td>positive</td>\n    </tr>\n    <tr>\n      <th>2</th>\n      <td>effective but too-tepid biopic</td>\n      <td>positive</td>\n    </tr>\n    <tr>\n      <th>3</th>\n      <td>if you sometimes like to go to the movies to h...</td>\n      <td>positive</td>\n    </tr>\n    <tr>\n      <th>4</th>\n      <td>emerges as something rare , an issue movie tha...</td>\n      <td>positive</td>\n    </tr>\n  </tbody>\n</table>\n</div>"
     },
     "execution_count": 41,
     "metadata": {},
     "output_type": "execute_result"
    }
   ],
   "source": [
    "df.head()"
   ]
  },
  {
   "cell_type": "code",
   "execution_count": 42,
   "metadata": {
    "pycharm": {
     "name": "#%%\n"
    }
   },
   "outputs": [],
   "source": [
    "# ----- Get labels -----\n",
    "y = np.int32(df.sentiment.astype('category').cat.codes.to_numpy())\n",
    "# ----- Get number of classes -----\n",
    "num_classes = np.unique(y).shape[0]"
   ]
  },
  {
   "cell_type": "code",
   "execution_count": 43,
   "metadata": {
    "pycharm": {
     "name": "#%%\n"
    }
   },
   "outputs": [
    {
     "name": "stdout",
     "output_type": "stream",
     "text": [
      "[1 1 1 ... 0 0 0]\n"
     ]
    }
   ],
   "source": [
    "print(y)"
   ]
  },
  {
   "cell_type": "code",
   "execution_count": 44,
   "metadata": {
    "pycharm": {
     "name": "#%%\n"
    }
   },
   "outputs": [],
   "source": [
    "stemmer = WordNetLemmatizer()\n",
    "\n",
    "\n",
    "def custom_standardization(text):\n",
    "    text = re.sub('<br />', ' ', str(text))\n",
    "\n",
    "    text = re.sub(r'\\W', ' ', str(text))\n",
    "\n",
    "    # remove all single characters\n",
    "    text = re.sub(r'\\s+[a-zA-Z]\\s+', ' ', text)\n",
    "\n",
    "    # substituting multiple spaces with single space\n",
    "    text = re.sub(r'\\s+', ' ', text, flags=re.I)\n",
    "\n",
    "    # removing prefixed 'b'\n",
    "    text = re.sub(r'^b\\s+', '', text)\n",
    "\n",
    "    # converting to Lowercase\n",
    "    text = text.lower()\n",
    "\n",
    "    # lemmatization\n",
    "    text = text.split()\n",
    "\n",
    "    text = [stemmer.lemmatize(word) for word in text]\n",
    "    text = ' '.join(text)\n",
    "\n",
    "    return text\n",
    "    pass"
   ]
  },
  {
   "cell_type": "code",
   "execution_count": 45,
   "metadata": {
    "pycharm": {
     "name": "#%%\n"
    }
   },
   "outputs": [
    {
     "name": "stderr",
     "output_type": "stream",
     "text": [
      "[nltk_data] Downloading package wordnet to\n",
      "[nltk_data]     C:\\Users\\new\\AppData\\Roaming\\nltk_data...\n",
      "[nltk_data]   Package wordnet is already up-to-date!\n"
     ]
    },
    {
     "data": {
      "text/plain": "True"
     },
     "execution_count": 45,
     "metadata": {},
     "output_type": "execute_result"
    },
    {
     "name": "stderr",
     "output_type": "stream",
     "text": [
      "[nltk_data] Downloading package omw-1.4 to\n",
      "[nltk_data]     C:\\Users\\new\\AppData\\Roaming\\nltk_data...\n",
      "[nltk_data]   Package omw-1.4 is already up-to-date!\n"
     ]
    },
    {
     "data": {
      "text/plain": "True"
     },
     "execution_count": 45,
     "metadata": {},
     "output_type": "execute_result"
    }
   ],
   "source": [
    "import nltk\n",
    "\n",
    "nltk.download('wordnet')\n",
    "nltk.download('omw-1.4')"
   ]
  },
  {
   "cell_type": "code",
   "execution_count": 46,
   "metadata": {
    "pycharm": {
     "name": "#%%\n"
    }
   },
   "outputs": [],
   "source": [
    "df['Cleaned_Text'] = df.review.apply(custom_standardization)"
   ]
  },
  {
   "cell_type": "code",
   "execution_count": 47,
   "metadata": {
    "pycharm": {
     "name": "#%%\n"
    }
   },
   "outputs": [
    {
     "data": {
      "text/plain": "0    the rock is destined to be the 21st century ne...\n1    the gorgeously elaborate continuation of the l...\n2                       effective but too tepid biopic\n3    if you sometimes like to go to the movie to ha...\n4    emerges a something rare an issue movie that s...\nName: Cleaned_Text, dtype: object"
     },
     "execution_count": 47,
     "metadata": {},
     "output_type": "execute_result"
    }
   ],
   "source": [
    "df['Cleaned_Text'].head()"
   ]
  },
  {
   "cell_type": "code",
   "execution_count": 48,
   "metadata": {
    "pycharm": {
     "name": "#%%\n"
    }
   },
   "outputs": [],
   "source": [
    "# ----- Prepare text for embedding -----\n",
    "max_features = 10000"
   ]
  },
  {
   "cell_type": "code",
   "execution_count": 49,
   "metadata": {
    "pycharm": {
     "name": "#%%\n"
    }
   },
   "outputs": [
    {
     "data": {
      "text/plain": "0        None\n1        None\n2        None\n3        None\n4        None\n         ... \n10656    None\n10657    None\n10658    None\n10659    None\n10660    None\nName: Cleaned_Text, Length: 10661, dtype: object"
     },
     "execution_count": 49,
     "metadata": {},
     "output_type": "execute_result"
    }
   ],
   "source": [
    "# ----- Get top 10000 most occuring words in list-----\n",
    "results = Counter()\n",
    "df['Cleaned_Text'].str.split().apply(results.update)\n",
    "vocabulary = [key[0] for key in results.most_common(max_features)]\n",
    "\n",
    "# ----- Create tokenizer based on your top 10000 words -----\n",
    "tokenizer = Tokenizer(num_words=max_features)\n",
    "tokenizer.fit_on_texts(vocabulary)"
   ]
  },
  {
   "cell_type": "code",
   "execution_count": 50,
   "metadata": {
    "pycharm": {
     "name": "#%%\n"
    }
   },
   "outputs": [],
   "source": [
    "# ----- Convert words to ints and pad -----\n",
    "X = tokenizer.texts_to_sequences(df['Cleaned_Text'].values)\n",
    "X = pad_sequences(X)\n",
    "\n",
    "# ----- Split into Train, Test, Validation sets -----\n",
    "X_train, X_test, y_train, y_test = train_test_split(X, y, test_size=0.2, random_state=42)\n",
    "X_train, X_val, y_train, y_val = train_test_split(X_train, y_train, test_size=0.2, random_state=42)"
   ]
  },
  {
   "cell_type": "code",
   "execution_count": 51,
   "metadata": {
    "pycharm": {
     "name": "#%%\n"
    }
   },
   "outputs": [],
   "source": [
    "output_dim = 16\n",
    "max_input_lenght = X.shape[1]"
   ]
  },
  {
   "cell_type": "code",
   "execution_count": 52,
   "metadata": {
    "pycharm": {
     "name": "#%%\n"
    }
   },
   "outputs": [
    {
     "name": "stdout",
     "output_type": "stream",
     "text": [
      "Found 10005 word vectors.\n"
     ]
    }
   ],
   "source": [
    " # path_to_glove_file = \"/checkpoints/yahoo/gau_e_1/fine_tune.txt\"\n",
    "path_to_glove_file = \"./checkpoints/rt_gau_0.1_wiki-news-300d-1M.vec/fine_tune.txt\"\n",
    "\n",
    "embeddings_index = {}\n",
    "with open(path_to_glove_file, encoding='utf-8') as f:\n",
    "    for line in f:\n",
    "        word, coefs = line.split(maxsplit=1)\n",
    "        coefs = np.fromstring(coefs, \"f\", sep=\" \")\n",
    "        embeddings_index[word] = coefs\n",
    "\n",
    "print(\"Found %s word vectors.\" % len(embeddings_index))"
   ]
  },
  {
   "cell_type": "code",
   "execution_count": 53,
   "metadata": {
    "pycharm": {
     "name": "#%%\n"
    }
   },
   "outputs": [
    {
     "name": "stdout",
     "output_type": "stream",
     "text": [
      "Converted 8040 words (1960 misses)\n"
     ]
    }
   ],
   "source": [
    "word_index = dict(zip(vocabulary, range(len(vocabulary))))\n",
    "num_tokens = len(vocabulary) + 2\n",
    "embedding_dim = 300\n",
    "hits = 0\n",
    "misses = 0\n",
    "\n",
    "# Prepare embedding matrix\n",
    "embedding_matrix = np.zeros((num_tokens, embedding_dim))\n",
    "for word, i in word_index.items():\n",
    "    embedding_vector = embeddings_index.get(word)\n",
    "    if embedding_vector is not None:\n",
    "        # Words not found in embedding index will be all-zeros.\n",
    "        # This includes the representation for \"padding\" and \"OOV\"\n",
    "        embedding_matrix[i] = embedding_vector\n",
    "        hits += 1\n",
    "    else:\n",
    "        misses += 1\n",
    "print(\"Converted %d words (%d misses)\" % (hits, misses))"
   ]
  },
  {
   "cell_type": "code",
   "execution_count": 25,
   "metadata": {
    "pycharm": {
     "name": "#%%\n"
    }
   },
   "outputs": [],
   "source": [
    "import random\n",
    "from scipy.stats import bernoulli\n",
    "from scipy.stats import norm\n",
    "from scipy.stats import laplace\n",
    "\n",
    "\n",
    "def rlaplace(mean, scale):\n",
    "    sgn = 2 * bernoulli.rvs(0.5) - 1\n",
    "    return (mean - scale * sgn * np.log(random.uniform(0, 1)))\n",
    "\n",
    "\n",
    "def rtrunclaplace(n, mean, scale, lower, upper):\n",
    "    out = []\n",
    "    while len(out) < n:\n",
    "        r = rlaplace(mean, scale)\n",
    "        if (r > lower and r < upper):\n",
    "            out.append(r)\n",
    "    return np.array(out)\n",
    "\n",
    "# 0-50\n",
    "e = 1\n",
    "# ε≤4∆1∆∞\n",
    "C = 0.005\n",
    "d1 = 2 * np.sqrt(300) * C\n",
    "dinf = 2 * C\n",
    "# first set e = 1\n",
    "a = e/d1\n",
    "scale  = 1/a\n",
    "A = -(d1/e) * np.log(1-(2 * e/np.sqrt(300)))"
   ]
  },
  {
   "cell_type": "code",
   "execution_count": 26,
   "metadata": {
    "pycharm": {
     "name": "#%%\n"
    }
   },
   "outputs": [],
   "source": [
    "noise =  np.empty((0, embedding_dim))\n",
    "for i in range(0,num_tokens):\n",
    "    noise = np.concatenate((noise,rtrunclaplace(300,mean=0, scale=scale, lower=-A, upper=A).reshape(-1, 300)),axis=0)"
   ]
  },
  {
   "cell_type": "code",
   "execution_count": 21,
   "metadata": {
    "pycharm": {
     "name": "#%%\n"
    }
   },
   "outputs": [],
   "source": [
    "noise =  np.empty((0, embedding_dim))\n",
    "for i in range(0,num_tokens):\n",
    "    noise = np.concatenate((noise, laplace.rvs(loc=0, scale=scale,size=300).reshape(-1, 300)),axis=0)"
   ]
  },
  {
   "cell_type": "code",
   "execution_count": 22,
   "metadata": {
    "pycharm": {
     "name": "#%%\n"
    }
   },
   "outputs": [],
   "source": [
    "noise =  np.empty((0, embedding_dim))\n",
    "for i in range(0,num_tokens):\n",
    "    noise = np.concatenate((noise, norm.rvs(loc = 0, scale = np.sqrt(2*(np.log(1.25)+d*np.log(2)))*C/e, size=300).reshape(-1, 300)),axis=0)"
   ]
  },
  {
   "cell_type": "code",
   "execution_count": 27,
   "metadata": {
    "pycharm": {
     "name": "#%%\n"
    }
   },
   "outputs": [
    {
     "data": {
      "text/plain": "array([[ 0.00797653,  0.00643291,  0.0023789 , ...,  0.00392921,\n         0.00236657, -0.01824509],\n       [-0.01254968,  0.01812921, -0.01401869, ...,  0.00121689,\n         0.01847122,  0.02057171],\n       [-0.00265675, -0.01037658,  0.02235966, ..., -0.00042689,\n        -0.0057127 , -0.01202456],\n       ...,\n       [ 0.00699218,  0.00916533,  0.01723085, ...,  0.0004955 ,\n         0.00927218,  0.00471995],\n       [ 0.00035215, -0.02089669, -0.01066997, ...,  0.01599979,\n        -0.00947658, -0.01172979],\n       [ 0.00584103,  0.00758239, -0.00902629, ...,  0.01178456,\n         0.01531006,  0.00757941]])"
     },
     "execution_count": 27,
     "metadata": {},
     "output_type": "execute_result"
    }
   ],
   "source": [
    "embedding_matrix =  np.random.uniform(-C, C, size=[num_tokens, embedding_dim]) + noise\n",
    "embedding_matrix"
   ]
  },
  {
   "cell_type": "code",
   "execution_count": 28,
   "metadata": {
    "pycharm": {
     "name": "#%%\n"
    }
   },
   "outputs": [],
   "source": [
    "np.random.seed(42)\n",
    "embedding_matrix = np.random.uniform(-C, C, size=[num_tokens, embedding_dim])"
   ]
  },
  {
   "cell_type": "code",
   "execution_count": 29,
   "metadata": {
    "pycharm": {
     "name": "#%%\n"
    }
   },
   "outputs": [
    {
     "data": {
      "text/plain": "array([[-0.0012546 ,  0.00450714,  0.00231994, ..., -0.00284179,\n         0.0012289 , -0.00414653],\n       [-0.00448318,  0.00031355,  0.00040635, ..., -0.0032768 ,\n        -0.00307711, -0.00459131],\n       [-0.00331065, -0.0022141 , -0.0032299 , ...,  0.00396336,\n        -0.00486998, -0.00414491],\n       ...,\n       [-0.00030222,  0.00460947, -0.00105273, ...,  0.00201195,\n        -0.00098657, -0.00496274],\n       [ 0.00244655, -0.00249474,  0.00185201, ...,  0.00284964,\n        -0.00361792, -0.00386512],\n       [-0.00191571,  0.00408757, -0.00376592, ...,  0.00335605,\n        -0.00262383, -0.00288215]])"
     },
     "execution_count": 29,
     "metadata": {},
     "output_type": "execute_result"
    }
   ],
   "source": [
    "embedding_matrix"
   ]
  },
  {
   "cell_type": "code",
   "execution_count": 54,
   "metadata": {
    "pycharm": {
     "name": "#%%\n"
    }
   },
   "outputs": [],
   "source": [
    "# ----- Define model -----\n",
    "model = tf.keras.Sequential()\n",
    "model.add(tf.keras.layers.Embedding(\n",
    "    num_tokens,\n",
    "    embedding_dim,\n",
    "    input_length=max_input_lenght,\n",
    "    #trainable = False,\n",
    "    embeddings_initializer=tf.keras.initializers.Constant(embedding_matrix),\n",
    "))\n",
    "model.add(tf.keras.layers.Dropout(0.2))\n",
    "model.add(tf.keras.layers.GlobalAveragePooling1D())\n",
    "model.add(tf.keras.layers.Dense(16, activation='relu'))\n",
    "model.add(tf.keras.layers.Dense(num_classes, activation='softmax'))\n",
    "\n",
    "# ----- Compile model -----\n",
    "model.compile(loss=tf.keras.losses.SparseCategoricalCrossentropy(), optimizer=tf.keras.optimizers.Adam(1e-4),\n",
    "              metrics=[\"accuracy\"])"
   ]
  },
  {
   "cell_type": "code",
   "execution_count": 55,
   "metadata": {
    "pycharm": {
     "name": "#%%\n"
    }
   },
   "outputs": [
    {
     "name": "stdout",
     "output_type": "stream",
     "text": [
      "Model: \"sequential_1\"\n",
      "_________________________________________________________________\n",
      " Layer (type)                Output Shape              Param #   \n",
      "=================================================================\n",
      " embedding_1 (Embedding)     (None, 50, 300)           3000600   \n",
      "                                                                 \n",
      " dropout_1 (Dropout)         (None, 50, 300)           0         \n",
      "                                                                 \n",
      " global_average_pooling1d_1   (None, 300)              0         \n",
      " (GlobalAveragePooling1D)                                        \n",
      "                                                                 \n",
      " dense_2 (Dense)             (None, 16)                4816      \n",
      "                                                                 \n",
      " dense_3 (Dense)             (None, 2)                 34        \n",
      "                                                                 \n",
      "=================================================================\n",
      "Total params: 3,005,450\n",
      "Trainable params: 3,005,450\n",
      "Non-trainable params: 0\n",
      "_________________________________________________________________\n"
     ]
    }
   ],
   "source": [
    "model.summary()"
   ]
  },
  {
   "cell_type": "code",
   "execution_count": 56,
   "metadata": {
    "pycharm": {
     "name": "#%%\n"
    }
   },
   "outputs": [
    {
     "name": "stdout",
     "output_type": "stream",
     "text": [
      "Epoch 1/20\n",
      "214/214 [==============================] - 8s 34ms/step - loss: 0.6933 - accuracy: 0.5062 - val_loss: 0.6922 - val_accuracy: 0.5434\n",
      "Epoch 2/20\n",
      "214/214 [==============================] - 7s 33ms/step - loss: 0.6909 - accuracy: 0.5547 - val_loss: 0.6907 - val_accuracy: 0.5897\n",
      "Epoch 3/20\n",
      "214/214 [==============================] - 7s 33ms/step - loss: 0.6883 - accuracy: 0.5981 - val_loss: 0.6891 - val_accuracy: 0.5487\n",
      "Epoch 4/20\n",
      "214/214 [==============================] - 7s 33ms/step - loss: 0.6841 - accuracy: 0.5907 - val_loss: 0.6843 - val_accuracy: 0.6290\n",
      "Epoch 5/20\n",
      "214/214 [==============================] - 7s 34ms/step - loss: 0.6777 - accuracy: 0.6394 - val_loss: 0.6815 - val_accuracy: 0.5557\n",
      "Epoch 6/20\n",
      "214/214 [==============================] - 7s 33ms/step - loss: 0.6698 - accuracy: 0.6780 - val_loss: 0.6740 - val_accuracy: 0.6829\n",
      "Epoch 7/20\n",
      "214/214 [==============================] - 7s 33ms/step - loss: 0.6598 - accuracy: 0.7284 - val_loss: 0.6664 - val_accuracy: 0.6887\n",
      "Epoch 8/20\n",
      "214/214 [==============================] - 7s 33ms/step - loss: 0.6484 - accuracy: 0.7341 - val_loss: 0.6582 - val_accuracy: 0.6489\n",
      "Epoch 9/20\n",
      "214/214 [==============================] - 7s 33ms/step - loss: 0.6341 - accuracy: 0.7514 - val_loss: 0.6484 - val_accuracy: 0.7016\n",
      "Epoch 10/20\n",
      "214/214 [==============================] - 7s 33ms/step - loss: 0.6170 - accuracy: 0.7637 - val_loss: 0.6355 - val_accuracy: 0.7022\n",
      "Epoch 11/20\n",
      "214/214 [==============================] - 7s 33ms/step - loss: 0.5980 - accuracy: 0.7754 - val_loss: 0.6218 - val_accuracy: 0.7110\n",
      "Epoch 12/20\n",
      "214/214 [==============================] - 7s 34ms/step - loss: 0.5753 - accuracy: 0.7873 - val_loss: 0.6082 - val_accuracy: 0.7081\n",
      "Epoch 13/20\n",
      "214/214 [==============================] - 7s 33ms/step - loss: 0.5520 - accuracy: 0.7914 - val_loss: 0.5928 - val_accuracy: 0.7175\n",
      "Epoch 14/20\n",
      "214/214 [==============================] - 7s 33ms/step - loss: 0.5286 - accuracy: 0.8067 - val_loss: 0.5797 - val_accuracy: 0.7222\n",
      "Epoch 15/20\n",
      "214/214 [==============================] - 7s 33ms/step - loss: 0.5036 - accuracy: 0.8184 - val_loss: 0.5656 - val_accuracy: 0.7304\n",
      "Epoch 16/20\n",
      "214/214 [==============================] - 7s 33ms/step - loss: 0.4809 - accuracy: 0.8292 - val_loss: 0.5533 - val_accuracy: 0.7356\n",
      "Epoch 17/20\n",
      "214/214 [==============================] - 7s 34ms/step - loss: 0.4586 - accuracy: 0.8374 - val_loss: 0.5423 - val_accuracy: 0.7403\n",
      "Epoch 18/20\n",
      "214/214 [==============================] - 7s 33ms/step - loss: 0.4379 - accuracy: 0.8464 - val_loss: 0.5326 - val_accuracy: 0.7450\n",
      "Epoch 19/20\n",
      "214/214 [==============================] - 7s 33ms/step - loss: 0.4171 - accuracy: 0.8552 - val_loss: 0.5233 - val_accuracy: 0.7515\n",
      "Epoch 20/20\n",
      "214/214 [==============================] - 7s 34ms/step - loss: 0.3964 - accuracy: 0.8646 - val_loss: 0.5159 - val_accuracy: 0.7497\n"
     ]
    }
   ],
   "source": [
    "# ----- Train model -----\n",
    "history_1 = model.fit(X_train, y_train, batch_size=32, epochs=20, validation_data=(X_val, y_val))\n"
   ]
  },
  {
   "cell_type": "code",
   "execution_count": 33,
   "metadata": {
    "pycharm": {
     "name": "#%%\n"
    }
   },
   "outputs": [
    {
     "name": "stdout",
     "output_type": "stream",
     "text": [
      "Epoch 1/20\n",
      "214/214 [==============================] - 7s 33ms/step - loss: 0.1460 - accuracy: 0.9622 - val_loss: 0.5179 - val_accuracy: 0.7608\n",
      "Epoch 2/20\n",
      "214/214 [==============================] - 7s 34ms/step - loss: 0.1355 - accuracy: 0.9645 - val_loss: 0.5277 - val_accuracy: 0.7614\n",
      "Epoch 3/20\n",
      "214/214 [==============================] - 7s 34ms/step - loss: 0.1259 - accuracy: 0.9682 - val_loss: 0.5374 - val_accuracy: 0.7614\n",
      "Epoch 4/20\n",
      "214/214 [==============================] - 7s 34ms/step - loss: 0.1171 - accuracy: 0.9702 - val_loss: 0.5487 - val_accuracy: 0.7591\n",
      "Epoch 5/20\n",
      "214/214 [==============================] - 7s 34ms/step - loss: 0.1095 - accuracy: 0.9749 - val_loss: 0.5612 - val_accuracy: 0.7632\n",
      "Epoch 6/20\n",
      "214/214 [==============================] - 8s 35ms/step - loss: 0.1017 - accuracy: 0.9763 - val_loss: 0.5726 - val_accuracy: 0.7644\n",
      "Epoch 7/20\n",
      "214/214 [==============================] - 8s 35ms/step - loss: 0.0941 - accuracy: 0.9796 - val_loss: 0.5871 - val_accuracy: 0.7644\n",
      "Epoch 8/20\n",
      "214/214 [==============================] - 7s 35ms/step - loss: 0.0883 - accuracy: 0.9793 - val_loss: 0.6020 - val_accuracy: 0.7655\n",
      "Epoch 9/20\n",
      "214/214 [==============================] - 7s 34ms/step - loss: 0.0825 - accuracy: 0.9814 - val_loss: 0.6150 - val_accuracy: 0.7638\n",
      "Epoch 10/20\n",
      "214/214 [==============================] - 7s 33ms/step - loss: 0.0769 - accuracy: 0.9840 - val_loss: 0.6290 - val_accuracy: 0.7661\n",
      "Epoch 11/20\n",
      "214/214 [==============================] - 7s 33ms/step - loss: 0.0718 - accuracy: 0.9837 - val_loss: 0.6444 - val_accuracy: 0.7655\n",
      "Epoch 12/20\n",
      "214/214 [==============================] - 7s 33ms/step - loss: 0.0670 - accuracy: 0.9853 - val_loss: 0.6617 - val_accuracy: 0.7649\n",
      "Epoch 13/20\n",
      "214/214 [==============================] - 7s 33ms/step - loss: 0.0624 - accuracy: 0.9872 - val_loss: 0.6760 - val_accuracy: 0.7626\n",
      "Epoch 14/20\n",
      "214/214 [==============================] - 7s 33ms/step - loss: 0.0589 - accuracy: 0.9878 - val_loss: 0.6928 - val_accuracy: 0.7608\n",
      "Epoch 15/20\n",
      "214/214 [==============================] - 7s 33ms/step - loss: 0.0543 - accuracy: 0.9908 - val_loss: 0.7093 - val_accuracy: 0.7632\n",
      "Epoch 16/20\n",
      "214/214 [==============================] - 7s 33ms/step - loss: 0.0510 - accuracy: 0.9900 - val_loss: 0.7277 - val_accuracy: 0.7597\n",
      "Epoch 17/20\n",
      "214/214 [==============================] - 7s 33ms/step - loss: 0.0472 - accuracy: 0.9914 - val_loss: 0.7562 - val_accuracy: 0.7526\n",
      "Epoch 18/20\n",
      "214/214 [==============================] - 7s 33ms/step - loss: 0.0450 - accuracy: 0.9912 - val_loss: 0.7624 - val_accuracy: 0.7597\n",
      "Epoch 19/20\n",
      "214/214 [==============================] - 7s 33ms/step - loss: 0.0413 - accuracy: 0.9933 - val_loss: 0.7828 - val_accuracy: 0.7597\n",
      "Epoch 20/20\n",
      "214/214 [==============================] - 7s 33ms/step - loss: 0.0385 - accuracy: 0.9937 - val_loss: 0.7984 - val_accuracy: 0.7579\n"
     ]
    }
   ],
   "source": [
    "# ----- Train model -----\n",
    "history_2 = model.fit(X_train, y_train, batch_size=32, epochs=20, validation_data=(X_val, y_val))\n"
   ]
  },
  {
   "cell_type": "code",
   "execution_count": 34,
   "metadata": {
    "pycharm": {
     "name": "#%%\n"
    }
   },
   "outputs": [
    {
     "name": "stdout",
     "output_type": "stream",
     "text": [
      "Epoch 1/20\n",
      "214/214 [==============================] - 7s 33ms/step - loss: 0.0363 - accuracy: 0.9941 - val_loss: 0.8180 - val_accuracy: 0.7573\n",
      "Epoch 2/20\n",
      "214/214 [==============================] - 7s 33ms/step - loss: 0.0334 - accuracy: 0.9949 - val_loss: 0.8372 - val_accuracy: 0.7579\n",
      "Epoch 3/20\n",
      "214/214 [==============================] - 7s 33ms/step - loss: 0.0316 - accuracy: 0.9957 - val_loss: 0.8562 - val_accuracy: 0.7556\n",
      "Epoch 4/20\n",
      "214/214 [==============================] - 7s 33ms/step - loss: 0.0294 - accuracy: 0.9955 - val_loss: 0.8797 - val_accuracy: 0.7538\n",
      "Epoch 5/20\n",
      "214/214 [==============================] - 7s 33ms/step - loss: 0.0271 - accuracy: 0.9968 - val_loss: 0.8949 - val_accuracy: 0.7509\n",
      "Epoch 6/20\n",
      "214/214 [==============================] - 7s 33ms/step - loss: 0.0253 - accuracy: 0.9962 - val_loss: 0.9153 - val_accuracy: 0.7503\n",
      "Epoch 7/20\n",
      "214/214 [==============================] - 7s 33ms/step - loss: 0.0242 - accuracy: 0.9965 - val_loss: 0.9469 - val_accuracy: 0.7433\n",
      "Epoch 8/20\n",
      "214/214 [==============================] - 7s 33ms/step - loss: 0.0224 - accuracy: 0.9969 - val_loss: 0.9701 - val_accuracy: 0.7421\n",
      "Epoch 9/20\n",
      "214/214 [==============================] - 7s 33ms/step - loss: 0.0211 - accuracy: 0.9971 - val_loss: 0.9746 - val_accuracy: 0.7479\n",
      "Epoch 10/20\n",
      "214/214 [==============================] - 7s 33ms/step - loss: 0.0188 - accuracy: 0.9978 - val_loss: 0.9959 - val_accuracy: 0.7497\n",
      "Epoch 11/20\n",
      "214/214 [==============================] - 7s 33ms/step - loss: 0.0176 - accuracy: 0.9977 - val_loss: 1.0189 - val_accuracy: 0.7462\n",
      "Epoch 12/20\n",
      "214/214 [==============================] - 7s 33ms/step - loss: 0.0168 - accuracy: 0.9978 - val_loss: 1.0368 - val_accuracy: 0.7474\n",
      "Epoch 13/20\n",
      "214/214 [==============================] - 7s 33ms/step - loss: 0.0158 - accuracy: 0.9981 - val_loss: 1.0588 - val_accuracy: 0.7438\n",
      "Epoch 14/20\n",
      "214/214 [==============================] - 7s 34ms/step - loss: 0.0140 - accuracy: 0.9979 - val_loss: 1.0806 - val_accuracy: 0.7456\n",
      "Epoch 15/20\n",
      "214/214 [==============================] - 7s 33ms/step - loss: 0.0134 - accuracy: 0.9987 - val_loss: 1.1026 - val_accuracy: 0.7427\n",
      "Epoch 16/20\n",
      "214/214 [==============================] - 7s 34ms/step - loss: 0.0125 - accuracy: 0.9985 - val_loss: 1.1220 - val_accuracy: 0.7456\n",
      "Epoch 17/20\n",
      "214/214 [==============================] - 8s 35ms/step - loss: 0.0115 - accuracy: 0.9987 - val_loss: 1.1508 - val_accuracy: 0.7397\n",
      "Epoch 18/20\n",
      "214/214 [==============================] - 8s 35ms/step - loss: 0.0108 - accuracy: 0.9987 - val_loss: 1.1650 - val_accuracy: 0.7444\n",
      "Epoch 19/20\n",
      "214/214 [==============================] - 8s 38ms/step - loss: 0.0099 - accuracy: 0.9990 - val_loss: 1.1878 - val_accuracy: 0.7438\n",
      "Epoch 20/20\n",
      "214/214 [==============================] - 9s 40ms/step - loss: 0.0096 - accuracy: 0.9988 - val_loss: 1.2131 - val_accuracy: 0.7421\n"
     ]
    }
   ],
   "source": [
    "# ----- Train model -----\n",
    "history_3 = model.fit(X_train, y_train, batch_size=32, epochs=20, validation_data=(X_val, y_val))\n"
   ]
  },
  {
   "cell_type": "code",
   "execution_count": 35,
   "metadata": {
    "pycharm": {
     "name": "#%%\n"
    }
   },
   "outputs": [
    {
     "name": "stdout",
     "output_type": "stream",
     "text": [
      "Epoch 1/20\n",
      "214/214 [==============================] - 7s 33ms/step - loss: 0.0086 - accuracy: 0.9991 - val_loss: 1.2356 - val_accuracy: 0.7409\n",
      "Epoch 2/20\n",
      "214/214 [==============================] - 7s 33ms/step - loss: 0.0081 - accuracy: 0.9996 - val_loss: 1.2574 - val_accuracy: 0.7397\n",
      "Epoch 3/20\n",
      "214/214 [==============================] - 7s 33ms/step - loss: 0.0072 - accuracy: 0.9993 - val_loss: 1.2775 - val_accuracy: 0.7403\n",
      "Epoch 4/20\n",
      "214/214 [==============================] - 7s 33ms/step - loss: 0.0069 - accuracy: 0.9996 - val_loss: 1.2991 - val_accuracy: 0.7415\n",
      "Epoch 5/20\n",
      "214/214 [==============================] - 7s 33ms/step - loss: 0.0063 - accuracy: 0.9996 - val_loss: 1.3328 - val_accuracy: 0.7374\n",
      "Epoch 6/20\n",
      "214/214 [==============================] - 7s 33ms/step - loss: 0.0061 - accuracy: 0.9997 - val_loss: 1.3436 - val_accuracy: 0.7403\n",
      "Epoch 7/20\n",
      "214/214 [==============================] - 7s 34ms/step - loss: 0.0054 - accuracy: 0.9996 - val_loss: 1.3682 - val_accuracy: 0.7433\n",
      "Epoch 8/20\n",
      "214/214 [==============================] - 7s 33ms/step - loss: 0.0050 - accuracy: 0.9997 - val_loss: 1.3895 - val_accuracy: 0.7403\n",
      "Epoch 9/20\n",
      "214/214 [==============================] - 7s 35ms/step - loss: 0.0047 - accuracy: 0.9996 - val_loss: 1.4134 - val_accuracy: 0.7415\n",
      "Epoch 10/20\n",
      "214/214 [==============================] - 7s 34ms/step - loss: 0.0045 - accuracy: 0.9997 - val_loss: 1.4393 - val_accuracy: 0.7386\n",
      "Epoch 11/20\n",
      "214/214 [==============================] - 7s 34ms/step - loss: 0.0040 - accuracy: 0.9999 - val_loss: 1.4582 - val_accuracy: 0.7397\n",
      "Epoch 12/20\n",
      "214/214 [==============================] - 7s 34ms/step - loss: 0.0038 - accuracy: 1.0000 - val_loss: 1.4837 - val_accuracy: 0.7397\n",
      "Epoch 13/20\n",
      "214/214 [==============================] - 8s 36ms/step - loss: 0.0034 - accuracy: 0.9999 - val_loss: 1.5037 - val_accuracy: 0.7392\n",
      "Epoch 14/20\n",
      "214/214 [==============================] - 7s 32ms/step - loss: 0.0034 - accuracy: 1.0000 - val_loss: 1.5564 - val_accuracy: 0.7251\n",
      "Epoch 15/20\n",
      "214/214 [==============================] - 7s 34ms/step - loss: 0.0030 - accuracy: 1.0000 - val_loss: 1.5481 - val_accuracy: 0.7397\n",
      "Epoch 16/20\n",
      "214/214 [==============================] - 7s 34ms/step - loss: 0.0028 - accuracy: 1.0000 - val_loss: 1.5712 - val_accuracy: 0.7392\n",
      "Epoch 17/20\n",
      "214/214 [==============================] - 7s 35ms/step - loss: 0.0026 - accuracy: 0.9999 - val_loss: 1.5946 - val_accuracy: 0.7392\n",
      "Epoch 18/20\n",
      "214/214 [==============================] - 7s 34ms/step - loss: 0.0023 - accuracy: 1.0000 - val_loss: 1.6194 - val_accuracy: 0.7362\n",
      "Epoch 19/20\n",
      "214/214 [==============================] - 8s 36ms/step - loss: 0.0021 - accuracy: 1.0000 - val_loss: 1.6410 - val_accuracy: 0.7380\n",
      "Epoch 20/20\n",
      "214/214 [==============================] - 7s 34ms/step - loss: 0.0020 - accuracy: 1.0000 - val_loss: 1.6640 - val_accuracy: 0.7362\n"
     ]
    }
   ],
   "source": [
    "# ----- Train model -----\n",
    "history_4 = model.fit(X_train, y_train, batch_size=32, epochs=20, validation_data=(X_val, y_val))"
   ]
  },
  {
   "cell_type": "markdown",
   "metadata": {
    "pycharm": {
     "name": "#%% md\n"
    }
   },
   "source": [
    "## **Evaluate the model**"
   ]
  },
  {
   "cell_type": "code",
   "execution_count": 57,
   "metadata": {
    "pycharm": {
     "name": "#%%\n"
    }
   },
   "outputs": [
    {
     "name": "stdout",
     "output_type": "stream",
     "text": [
      "67/67 [==============================] - 0s 2ms/step\n",
      " \n",
      "Results\n",
      "Accuracy: 0.7478\n",
      " \n",
      "              precision    recall  f1-score   support\n",
      "\n",
      "           0       0.75      0.75      0.75      1071\n",
      "           1       0.75      0.75      0.75      1062\n",
      "\n",
      "    accuracy                           0.75      2133\n",
      "   macro avg       0.75      0.75      0.75      2133\n",
      "weighted avg       0.75      0.75      0.75      2133\n",
      "\n"
     ]
    }
   ],
   "source": [
    "# ----- Evaluate model -----\n",
    "probabilities = model.predict(X_test)\n",
    "pred = np.argmax(probabilities, axis=1)\n",
    "\n",
    "print(\" \")\n",
    "print(\"Results\")\n",
    "\n",
    "accuracy = accuracy_score(y_test, pred)\n",
    "\n",
    "print('Accuracy: {:.4f}'.format(accuracy))\n",
    "print(\" \")\n",
    "print(classification_report(y_test, pred))"
   ]
  },
  {
   "cell_type": "code",
   "execution_count": 37,
   "metadata": {
    "pycharm": {
     "name": "#%%\n"
    }
   },
   "outputs": [],
   "source": [
    "def plot_history(history):\n",
    "    acc = history.history['accuracy']\n",
    "    val_acc = history.history['val_accuracy']\n",
    "    loss = history.history['loss']\n",
    "    val_loss = history.history['val_loss']\n",
    "    x = range(1, len(acc) + 1)\n",
    "\n",
    "    plt.figure(figsize=(12, 5))\n",
    "    plt.subplot(1, 2, 1)\n",
    "    plt.plot(x, acc, 'b', label='Training acc')\n",
    "    plt.plot(x, val_acc, 'r', label='Validation acc')\n",
    "    plt.title('Training and validation accuracy')\n",
    "    plt.legend()\n",
    "    plt.subplot(1, 2, 2)\n",
    "    plt.plot(x, loss, 'b', label='Training loss')\n",
    "    plt.plot(x, val_loss, 'r', label='Validation loss')\n",
    "    plt.title('Training and validation loss')\n",
    "    plt.legend()"
   ]
  },
  {
   "cell_type": "code",
   "execution_count": 38,
   "metadata": {
    "pycharm": {
     "name": "#%%\n"
    }
   },
   "outputs": [
    {
     "data": {
      "text/plain": "<Figure size 1200x500 with 2 Axes>",
      "image/png": "[encoded data removed]"
     },
     "metadata": {},
     "output_type": "display_data"
    }
   ],
   "source": [
    "plot_history(history_1)"
   ]
  },
  {
   "cell_type": "code",
   "execution_count": 39,
   "metadata": {
    "pycharm": {
     "name": "#%%\n"
    }
   },
   "outputs": [
    {
     "data": {
      "text/plain": "<Figure size 600x500 with 0 Axes>"
     },
     "execution_count": 39,
     "metadata": {},
     "output_type": "execute_result"
    },
    {
     "data": {
      "text/plain": "[<matplotlib.lines.Line2D at 0x1ce29f2b610>]"
     },
     "execution_count": 39,
     "metadata": {},
     "output_type": "execute_result"
    },
    {
     "data": {
      "text/plain": "[<matplotlib.lines.Line2D at 0x1ce29f2b550>]"
     },
     "execution_count": 39,
     "metadata": {},
     "output_type": "execute_result"
    },
    {
     "data": {
      "text/plain": "[<matplotlib.lines.Line2D at 0x1ce2f405040>]"
     },
     "execution_count": 39,
     "metadata": {},
     "output_type": "execute_result"
    },
    {
     "data": {
      "text/plain": "[<matplotlib.lines.Line2D at 0x1ce2f405f40>]"
     },
     "execution_count": 39,
     "metadata": {},
     "output_type": "execute_result"
    },
    {
     "data": {
      "text/plain": "Text(0.5, 1.0, 'Training accuracy on e=1')"
     },
     "execution_count": 39,
     "metadata": {},
     "output_type": "execute_result"
    },
    {
     "data": {
      "text/plain": "<matplotlib.legend.Legend at 0x1ce2f6aec10>"
     },
     "execution_count": 39,
     "metadata": {},
     "output_type": "execute_result"
    },
    {
     "data": {
      "text/plain": "<Figure size 600x500 with 1 Axes>",
      "image/png": "[encoded data removed]"
     },
     "metadata": {},
     "output_type": "display_data"
    }
   ],
   "source": [
    "acc_1 = history_1.history['accuracy']\n",
    "val_acc_1 = history_1.history['val_accuracy']\n",
    "acc_2 = history_2.history['accuracy']\n",
    "val_acc_2 = history_2.history['val_accuracy']\n",
    "acc_3 = history_3.history['accuracy']\n",
    "val_acc_3 = history_3.history['val_accuracy']\n",
    "acc_4 = history_4.history['accuracy']\n",
    "val_acc_4 = history_4.history['val_accuracy']\n",
    "# loss_1 = history_1.history['loss']\n",
    "# val_loss_1 = history_1.history['val_loss']\n",
    "x = range(1, len(acc_1) + 1)\n",
    "\n",
    "plt.figure(figsize=(6, 5))\n",
    "# plt.subplot(1, 2, 1)\n",
    "plt.plot(x, acc_1, 'blue', label='Gaussian')\n",
    "#plt.plot(x, val_acc_1, 'r', label='TL_Validation acc')\n",
    "plt.plot(x, acc_2, 'yellow', label='Laplacian')\n",
    "#plt.plot(x, val_acc_2, 'green', label='L_Validation acc')\n",
    "plt.plot(x, acc_3, 'orange', label='TrLaplacian')\n",
    "#plt.plot(x, val_acc_3, 'orange', label='None_Validation acc')\n",
    "plt.plot(x, acc_4, 'pink', label='Non-private')\n",
    "#plt.plot(x, val_acc_4, 'cyan', label='G_Validation acc')\n",
    "plt.title('Training accuracy on e=1')\n",
    "plt.legend()\n",
    "plt.savefig(\"Glove_e_1.png\", dpi=500, format=\"png\")"
   ]
  },
  {
   "cell_type": "code",
   "execution_count": null,
   "metadata": {
    "pycharm": {
     "name": "#%%\n"
    }
   },
   "outputs": [],
   "source": [
    "import pickle\n",
    "#file = open('./history_3_TL.pkl', 'wb')\n",
    "#pickle.dump(history_1.history, file)\n",
    "#file.close()"
   ]
  },
  {
   "cell_type": "code",
   "execution_count": null,
   "metadata": {
    "pycharm": {
     "name": "#%%\n"
    }
   },
   "outputs": [],
   "source": [
    "f = open('./history_3_L.pkl', 'rb')\n",
    "his = pickle.load(f)"
   ]
  }
 ],
 "metadata": {
  "kernelspec": {
   "display_name": "Python 3",
   "language": "python",
   "name": "python3"
  },
  "language_info": {
   "codemirror_mode": {
    "name": "ipython",
    "version": 3
   },
   "file_extension": ".py",
   "mimetype": "text/x-python",
   "name": "python",
   "nbconvert_exporter": "python",
   "pygments_lexer": "ipython3",
   "version": "3.8.10"
  },
  "vscode": {
   "interpreter": {
    "hash": "cc6395b1a29bf1f2f1e02e750689f291b1b14dfb38f5afd7895535e548cda785"
   }
  }
 },
 "nbformat": 4,
 "nbformat_minor": 4
}