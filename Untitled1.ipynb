{
 "cells": [
  {
   "cell_type": "code",
   "execution_count": 1,
   "metadata": {},
   "outputs": [],
   "source": [
    "import tensorflow as tf\n",
    "import numpy as np\n",
    "import pandas as pd\n",
    "\n",
    "from sklearn.model_selection import train_test_split\n",
    "from sklearn.metrics import accuracy_score, classification_report\n",
    "from collections import Counter\n",
    "\n",
    "from tensorflow.keras.preprocessing.text import Tokenizer\n",
    "from tensorflow.keras.preprocessing.sequence import pad_sequences\n",
    "\n",
    "import matplotlib.pyplot as plt\n",
    "plt.style.use('ggplot')\n",
    "\n",
    "import re\n",
    "import nltk\n",
    "from nltk.stem import WordNetLemmatizer"
   ]
  },
  {
   "cell_type": "code",
   "execution_count": 2,
   "metadata": {},
   "outputs": [],
   "source": [
    "df = pd.read_csv(\"imdb.csv\",\n",
    "                 sep=',')"
   ]
  },
  {
   "cell_type": "code",
   "execution_count": 3,
   "metadata": {},
   "outputs": [
    {
     "data": {
      "text/html": [
       "<div>\n",
       "<style scoped>\n",
       "    .dataframe tbody tr th:only-of-type {\n",
       "        vertical-align: middle;\n",
       "    }\n",
       "\n",
       "    .dataframe tbody tr th {\n",
       "        vertical-align: top;\n",
       "    }\n",
       "\n",
       "    .dataframe thead th {\n",
       "        text-align: right;\n",
       "    }\n",
       "</style>\n",
       "<table border=\"1\" class=\"dataframe\">\n",
       "  <thead>\n",
       "    <tr style=\"text-align: right;\">\n",
       "      <th></th>\n",
       "      <th>review</th>\n",
       "      <th>sentiment</th>\n",
       "    </tr>\n",
       "  </thead>\n",
       "  <tbody>\n",
       "    <tr>\n",
       "      <th>0</th>\n",
       "      <td>One of the other reviewers has mentioned that ...</td>\n",
       "      <td>positive</td>\n",
       "    </tr>\n",
       "    <tr>\n",
       "      <th>1</th>\n",
       "      <td>A wonderful little production. &lt;br /&gt;&lt;br /&gt;The...</td>\n",
       "      <td>positive</td>\n",
       "    </tr>\n",
       "    <tr>\n",
       "      <th>2</th>\n",
       "      <td>I thought this was a wonderful way to spend ti...</td>\n",
       "      <td>positive</td>\n",
       "    </tr>\n",
       "    <tr>\n",
       "      <th>3</th>\n",
       "      <td>Basically there's a family where a little boy ...</td>\n",
       "      <td>negative</td>\n",
       "    </tr>\n",
       "    <tr>\n",
       "      <th>4</th>\n",
       "      <td>Petter Mattei's \"Love in the Time of Money\" is...</td>\n",
       "      <td>positive</td>\n",
       "    </tr>\n",
       "  </tbody>\n",
       "</table>\n",
       "</div>"
      ],
      "text/plain": [
       "                                              review sentiment\n",
       "0  One of the other reviewers has mentioned that ...  positive\n",
       "1  A wonderful little production. <br /><br />The...  positive\n",
       "2  I thought this was a wonderful way to spend ti...  positive\n",
       "3  Basically there's a family where a little boy ...  negative\n",
       "4  Petter Mattei's \"Love in the Time of Money\" is...  positive"
      ]
     },
     "execution_count": 3,
     "metadata": {},
     "output_type": "execute_result"
    }
   ],
   "source": [
    "df.head()"
   ]
  },
  {
   "cell_type": "code",
   "execution_count": 4,
   "metadata": {},
   "outputs": [],
   "source": [
    "# ----- Get labels -----\n",
    "y = np.int32(df.sentiment.astype('category').cat.codes.to_numpy())\n",
    "# ----- Get number of classes -----\n",
    "num_classes = np.unique(y).shape[0]"
   ]
  },
  {
   "cell_type": "code",
   "execution_count": 5,
   "metadata": {},
   "outputs": [
    {
     "name": "stdout",
     "output_type": "stream",
     "text": [
      "[1 1 1 ... 0 0 0]\n"
     ]
    }
   ],
   "source": [
    "print(y)"
   ]
  },
  {
   "cell_type": "code",
   "execution_count": 6,
   "metadata": {},
   "outputs": [],
   "source": [
    "stemmer = WordNetLemmatizer()\n",
    "def custom_standardization(text):\n",
    "    \n",
    "    text = re.sub('<br />', ' ', str(text))\n",
    "    \n",
    "    text = re.sub(r'\\W', ' ', str(text))\n",
    "    \n",
    "    # remove all single characters\n",
    "    text = re.sub(r'\\s+[a-zA-Z]\\s+', ' ', text)\n",
    "    \n",
    "    # substituting multiple spaces with single space\n",
    "    text = re.sub(r'\\s+', ' ', text, flags=re.I)\n",
    "    \n",
    "    # removing prefixed 'b'\n",
    "    text = re.sub(r'^b\\s+', '', text)\n",
    "    \n",
    "    # converting to Lowercase\n",
    "    text = text.lower()\n",
    "    \n",
    "    # lemmatization\n",
    "    text = text.split()\n",
    "\n",
    "    text = [stemmer.lemmatize(word) for word in text]\n",
    "    text = ' '.join(text)\n",
    "    \n",
    "    return text\n",
    "    pass"
   ]
  },
  {
   "cell_type": "code",
   "execution_count": 7,
   "metadata": {},
   "outputs": [
    {
     "name": "stderr",
     "output_type": "stream",
     "text": [
      "[nltk_data] Downloading package wordnet to /home/lijie/nltk_data...\n",
      "[nltk_data]   Package wordnet is already up-to-date!\n"
     ]
    },
    {
     "data": {
      "text/plain": [
       "True"
      ]
     },
     "execution_count": 7,
     "metadata": {},
     "output_type": "execute_result"
    }
   ],
   "source": [
    "import nltk\n",
    "nltk.download('wordnet')"
   ]
  },
  {
   "cell_type": "code",
   "execution_count": 8,
   "metadata": {},
   "outputs": [],
   "source": [
    "df['Cleaned_Text'] = df.review.apply(custom_standardization)"
   ]
  },
  {
   "cell_type": "code",
   "execution_count": 9,
   "metadata": {},
   "outputs": [
    {
     "data": {
      "text/plain": [
       "0    one of the other reviewer ha mentioned that af...\n",
       "1    a wonderful little production the filming tech...\n",
       "2    i thought this wa wonderful way to spend time ...\n",
       "3    basically there a family where little boy jake...\n",
       "4    petter mattei love in the time of money is vis...\n",
       "Name: Cleaned_Text, dtype: object"
      ]
     },
     "execution_count": 9,
     "metadata": {},
     "output_type": "execute_result"
    }
   ],
   "source": [
    "df['Cleaned_Text'].head()"
   ]
  },
  {
   "cell_type": "code",
   "execution_count": 10,
   "metadata": {},
   "outputs": [],
   "source": [
    "# ----- Prepare text for embedding -----\n",
    "max_features = 10000"
   ]
  },
  {
   "cell_type": "code",
   "execution_count": 11,
   "metadata": {},
   "outputs": [],
   "source": [
    "# ----- Get top 10000 most occuring words in list-----\n",
    "results = Counter()\n",
    "df['Cleaned_Text'].str.split().apply(results.update)\n",
    "vocabulary = [key[0] for key in results.most_common(max_features)]\n",
    "\n",
    "# ----- Create tokenizer based on your top 10000 words -----\n",
    "tokenizer = Tokenizer(num_words=max_features)\n",
    "tokenizer.fit_on_texts(vocabulary)"
   ]
  },
  {
   "cell_type": "code",
   "execution_count": 12,
   "metadata": {},
   "outputs": [],
   "source": [
    "\n",
    "# ----- Convert words to ints and pad -----\n",
    "X = tokenizer.texts_to_sequences(df['Cleaned_Text'].values)\n",
    "X = pad_sequences(X)\n",
    "\n",
    "\n",
    "# ----- Split into Train, Test, Validation sets -----\n",
    "X_train, X_test, y_train, y_test = train_test_split(X, y, test_size=0.2, random_state=42)\n",
    "X_train, X_val, y_train, y_val = train_test_split(X_train, y_train, test_size=0.2, random_state=42)"
   ]
  },
  {
   "cell_type": "code",
   "execution_count": 13,
   "metadata": {},
   "outputs": [],
   "source": [
    "output_dim = 16\n",
    "max_input_lenght = X.shape[1]"
   ]
  },
  {
   "cell_type": "code",
   "execution_count": 14,
   "metadata": {},
   "outputs": [
    {
     "name": "stdout",
     "output_type": "stream",
     "text": [
      "Found 10005 word vectors.\n"
     ]
    }
   ],
   "source": [
    "path_to_glove_file = \"./checkpoints/yelp/non-pri-t/fine_tune.txt\"\n",
    "\n",
    "embeddings_index = {}\n",
    "with open(path_to_glove_file, encoding='utf-8') as f:\n",
    "     for line in f:\n",
    "        word, coefs = line.split(maxsplit=1)\n",
    "        coefs = np.fromstring(coefs, \"f\", sep=\" \")\n",
    "        embeddings_index[word] = coefs\n",
    " \n",
    "print(\"Found %s word vectors.\" % len(embeddings_index))"
   ]
  },
  {
   "cell_type": "code",
   "execution_count": 15,
   "metadata": {},
   "outputs": [
    {
     "name": "stdout",
     "output_type": "stream",
     "text": [
      "Converted 4968 words (5032 misses)\n"
     ]
    }
   ],
   "source": [
    "word_index = dict(zip(vocabulary, range(len(vocabulary))))\n",
    "num_tokens = len(vocabulary) + 2\n",
    "embedding_dim = 300\n",
    "hits = 0\n",
    "misses = 0\n",
    "\n",
    "# # Prepare embedding matrix\n",
    "embedding_matrix = np.zeros((num_tokens, embedding_dim))\n",
    "for word, i in word_index.items():\n",
    "    embedding_vector = embeddings_index.get(word)\n",
    "    if embedding_vector is not None:\n",
    "         # Words not found in embedding index will be all-zeros.\n",
    "         # This includes the representation for \"padding\" and \"OOV\"\n",
    "        embedding_matrix[i] = embedding_vector\n",
    "        hits += 1\n",
    "    else:\n",
    "        misses += 1\n",
    "print(\"Converted %d words (%d misses)\" % (hits, misses))"
   ]
  },
  {
   "cell_type": "code",
   "execution_count": 16,
   "metadata": {},
   "outputs": [
    {
     "data": {
      "text/plain": [
       "array([[ 0.09249134,  0.13362345, -0.17906143, ...,  0.0036109 ,\n",
       "        -0.08063033, -0.23188129],\n",
       "       [ 0.04996167,  0.0256477 ,  0.17062847, ..., -0.15939282,\n",
       "         0.18920462,  0.01634401],\n",
       "       [ 0.17083688, -0.12481403,  0.0695041 , ..., -0.09658922,\n",
       "         0.07839926,  0.09828387],\n",
       "       ...,\n",
       "       [ 0.        ,  0.        ,  0.        , ...,  0.        ,\n",
       "         0.        ,  0.        ],\n",
       "       [ 0.        ,  0.        ,  0.        , ...,  0.        ,\n",
       "         0.        ,  0.        ],\n",
       "       [ 0.        ,  0.        ,  0.        , ...,  0.        ,\n",
       "         0.        ,  0.        ]])"
      ]
     },
     "execution_count": 16,
     "metadata": {},
     "output_type": "execute_result"
    }
   ],
   "source": [
    "embedding_matrix"
   ]
  },
  {
   "cell_type": "code",
   "execution_count": 17,
   "metadata": {},
   "outputs": [],
   "source": [
    "# ----- Define model -----\n",
    "model = tf.keras.Sequential()\n",
    "model.add(tf.keras.layers.Embedding(\n",
    "    num_tokens,\n",
    "    embedding_dim,\n",
    "    input_length = max_input_lenght,\n",
    "    #trainable = False,\n",
    "    embeddings_initializer=tf.keras.initializers.Constant(embedding_matrix),\n",
    "))\n",
    "model.add(tf.keras.layers.Dropout(0.2))\n",
    "model.add(tf.keras.layers.GlobalAveragePooling1D())\n",
    "model.add(tf.keras.layers.Dense(16, activation='relu'))\n",
    "model.add(tf.keras.layers.Dense(num_classes, activation='softmax'))\n",
    "\n",
    "# ----- Compile model -----\n",
    "model.compile(loss=tf.keras.losses.SparseCategoricalCrossentropy(), optimizer=tf.keras.optimizers.Adam(1e-3), metrics=[\"accuracy\"])"
   ]
  },
  {
   "cell_type": "code",
   "execution_count": 18,
   "metadata": {},
   "outputs": [
    {
     "name": "stdout",
     "output_type": "stream",
     "text": [
      "Model: \"sequential\"\n",
      "_________________________________________________________________\n",
      "Layer (type)                 Output Shape              Param #   \n",
      "=================================================================\n",
      "embedding (Embedding)        (None, 2113, 300)         3000600   \n",
      "_________________________________________________________________\n",
      "dropout (Dropout)            (None, 2113, 300)         0         \n",
      "_________________________________________________________________\n",
      "global_average_pooling1d (Gl (None, 300)               0         \n",
      "_________________________________________________________________\n",
      "dense (Dense)                (None, 16)                4816      \n",
      "_________________________________________________________________\n",
      "dense_1 (Dense)              (None, 2)                 34        \n",
      "=================================================================\n",
      "Total params: 3,005,450\n",
      "Trainable params: 3,005,450\n",
      "Non-trainable params: 0\n",
      "_________________________________________________________________\n"
     ]
    }
   ],
   "source": [
    "model.summary()"
   ]
  },
  {
   "cell_type": "code",
   "execution_count": 278,
   "metadata": {},
   "outputs": [
    {
     "name": "stdout",
     "output_type": "stream",
     "text": [
      "Epoch 1/20\n",
      "250/250 [==============================] - 58s 231ms/step - loss: 0.6941 - accuracy: 0.5085 - val_loss: 0.6817 - val_accuracy: 0.5931\n",
      "Epoch 2/20\n",
      "250/250 [==============================] - 59s 236ms/step - loss: 0.6770 - accuracy: 0.5762 - val_loss: 0.6312 - val_accuracy: 0.7224\n",
      "Epoch 3/20\n",
      "250/250 [==============================] - 60s 241ms/step - loss: 0.6032 - accuracy: 0.7263 - val_loss: 0.5030 - val_accuracy: 0.8083\n",
      "Epoch 4/20\n",
      "250/250 [==============================] - 60s 241ms/step - loss: 0.4782 - accuracy: 0.8131 - val_loss: 0.4025 - val_accuracy: 0.8553\n",
      "Epoch 5/20\n",
      "250/250 [==============================] - 61s 242ms/step - loss: 0.3824 - accuracy: 0.8552 - val_loss: 0.3456 - val_accuracy: 0.8716\n",
      "Epoch 6/20\n",
      "250/250 [==============================] - 60s 240ms/step - loss: 0.3294 - accuracy: 0.8744 - val_loss: 0.3156 - val_accuracy: 0.8802\n",
      "Epoch 7/20\n",
      "250/250 [==============================] - 62s 249ms/step - loss: 0.2942 - accuracy: 0.8850 - val_loss: 0.3005 - val_accuracy: 0.8870\n",
      "Epoch 8/20\n",
      "250/250 [==============================] - 63s 250ms/step - loss: 0.2735 - accuracy: 0.8941 - val_loss: 0.2858 - val_accuracy: 0.8901\n",
      "Epoch 9/20\n",
      "250/250 [==============================] - 63s 253ms/step - loss: 0.2581 - accuracy: 0.9005 - val_loss: 0.2868 - val_accuracy: 0.8869\n",
      "Epoch 10/20\n",
      "250/250 [==============================] - 63s 252ms/step - loss: 0.2470 - accuracy: 0.9031 - val_loss: 0.2748 - val_accuracy: 0.8930\n",
      "Epoch 11/20\n",
      "250/250 [==============================] - 63s 252ms/step - loss: 0.2324 - accuracy: 0.9118 - val_loss: 0.2710 - val_accuracy: 0.8946\n",
      "Epoch 12/20\n",
      "250/250 [==============================] - 67s 269ms/step - loss: 0.2223 - accuracy: 0.9155 - val_loss: 0.2838 - val_accuracy: 0.8881\n",
      "Epoch 13/20\n",
      "250/250 [==============================] - 71s 283ms/step - loss: 0.2088 - accuracy: 0.9197 - val_loss: 0.2634 - val_accuracy: 0.8980\n",
      "Epoch 14/20\n",
      "250/250 [==============================] - 65s 261ms/step - loss: 0.2018 - accuracy: 0.9236 - val_loss: 0.2716 - val_accuracy: 0.8944\n",
      "Epoch 15/20\n",
      "250/250 [==============================] - 62s 248ms/step - loss: 0.2027 - accuracy: 0.9238 - val_loss: 0.2658 - val_accuracy: 0.8979\n",
      "Epoch 16/20\n",
      "250/250 [==============================] - 62s 250ms/step - loss: 0.1929 - accuracy: 0.9281 - val_loss: 0.2610 - val_accuracy: 0.8979\n",
      "Epoch 17/20\n",
      "250/250 [==============================] - 63s 252ms/step - loss: 0.1788 - accuracy: 0.9353 - val_loss: 0.3019 - val_accuracy: 0.8798\n",
      "Epoch 18/20\n",
      "250/250 [==============================] - 63s 250ms/step - loss: 0.1778 - accuracy: 0.9334 - val_loss: 0.2634 - val_accuracy: 0.8982\n",
      "Epoch 19/20\n",
      "250/250 [==============================] - 63s 251ms/step - loss: 0.1693 - accuracy: 0.9383 - val_loss: 0.2910 - val_accuracy: 0.8855\n",
      "Epoch 20/20\n",
      "250/250 [==============================] - 63s 252ms/step - loss: 0.1742 - accuracy: 0.9347 - val_loss: 0.2673 - val_accuracy: 0.8963\n"
     ]
    }
   ],
   "source": [
    "# ----- Train model ----- gau_e_1\n",
    "history_1 = model.fit(X_train, y_train, batch_size=128,epochs=20, validation_data=(X_val, y_val))"
   ]
  },
  {
   "cell_type": "code",
   "execution_count": 285,
   "metadata": {
    "scrolled": true
   },
   "outputs": [
    {
     "name": "stdout",
     "output_type": "stream",
     "text": [
      "Epoch 1/20\n",
      "250/250 [==============================] - 63s 249ms/step - loss: 0.6951 - accuracy: 0.5112 - val_loss: 0.6808 - val_accuracy: 0.6459\n",
      "Epoch 2/20\n",
      "250/250 [==============================] - 62s 247ms/step - loss: 0.6745 - accuracy: 0.5892 - val_loss: 0.6336 - val_accuracy: 0.7322\n",
      "Epoch 3/20\n",
      "250/250 [==============================] - 61s 245ms/step - loss: 0.6099 - accuracy: 0.7142 - val_loss: 0.5168 - val_accuracy: 0.8116\n",
      "Epoch 4/20\n",
      "250/250 [==============================] - 61s 246ms/step - loss: 0.4950 - accuracy: 0.7978 - val_loss: 0.4326 - val_accuracy: 0.8301\n",
      "Epoch 5/20\n",
      "250/250 [==============================] - 65s 261ms/step - loss: 0.4053 - accuracy: 0.8418 - val_loss: 0.3708 - val_accuracy: 0.8554\n",
      "Epoch 6/20\n",
      "250/250 [==============================] - 65s 258ms/step - loss: 0.3513 - accuracy: 0.8662 - val_loss: 0.3337 - val_accuracy: 0.8788\n",
      "Epoch 7/20\n",
      "250/250 [==============================] - 64s 256ms/step - loss: 0.3136 - accuracy: 0.8830 - val_loss: 0.3213 - val_accuracy: 0.8763\n",
      "Epoch 8/20\n",
      "250/250 [==============================] - 64s 256ms/step - loss: 0.2951 - accuracy: 0.8861 - val_loss: 0.2975 - val_accuracy: 0.8882\n",
      "Epoch 9/20\n",
      "250/250 [==============================] - 63s 251ms/step - loss: 0.2752 - accuracy: 0.8941 - val_loss: 0.2908 - val_accuracy: 0.8898\n",
      "Epoch 10/20\n",
      "250/250 [==============================] - 66s 264ms/step - loss: 0.2563 - accuracy: 0.9018 - val_loss: 0.2806 - val_accuracy: 0.8921\n",
      "Epoch 11/20\n",
      "250/250 [==============================] - 67s 267ms/step - loss: 0.2450 - accuracy: 0.9072 - val_loss: 0.2911 - val_accuracy: 0.8873\n",
      "Epoch 12/20\n",
      "250/250 [==============================] - 66s 264ms/step - loss: 0.2395 - accuracy: 0.9076 - val_loss: 0.2731 - val_accuracy: 0.8951\n",
      "Epoch 13/20\n",
      "250/250 [==============================] - 66s 263ms/step - loss: 0.2267 - accuracy: 0.9132 - val_loss: 0.2695 - val_accuracy: 0.8947\n",
      "Epoch 14/20\n",
      "250/250 [==============================] - 66s 264ms/step - loss: 0.2211 - accuracy: 0.9156 - val_loss: 0.2645 - val_accuracy: 0.8979\n",
      "Epoch 15/20\n",
      "250/250 [==============================] - 66s 262ms/step - loss: 0.2072 - accuracy: 0.9239 - val_loss: 0.2809 - val_accuracy: 0.8910\n",
      "Epoch 16/20\n",
      "250/250 [==============================] - 66s 265ms/step - loss: 0.2027 - accuracy: 0.9247 - val_loss: 0.2637 - val_accuracy: 0.8972\n",
      "Epoch 17/20\n",
      "250/250 [==============================] - 66s 264ms/step - loss: 0.1940 - accuracy: 0.9262 - val_loss: 0.2874 - val_accuracy: 0.8846\n",
      "Epoch 18/20\n",
      "250/250 [==============================] - 66s 265ms/step - loss: 0.1941 - accuracy: 0.9274 - val_loss: 0.2697 - val_accuracy: 0.8954\n",
      "Epoch 19/20\n",
      "250/250 [==============================] - 65s 260ms/step - loss: 0.1827 - accuracy: 0.9328 - val_loss: 0.2583 - val_accuracy: 0.9001\n",
      "Epoch 20/20\n",
      "250/250 [==============================] - 65s 261ms/step - loss: 0.1819 - accuracy: 0.9301 - val_loss: 0.2700 - val_accuracy: 0.8957\n"
     ]
    }
   ],
   "source": [
    "# ----- Train model ----- lap_e_1\n",
    "history_2 = model.fit(X_train, y_train, batch_size=128,epochs=20, validation_data=(X_val, y_val))"
   ]
  },
  {
   "cell_type": "code",
   "execution_count": 292,
   "metadata": {
    "scrolled": true
   },
   "outputs": [
    {
     "name": "stdout",
     "output_type": "stream",
     "text": [
      "Epoch 1/20\n",
      "250/250 [==============================] - 64s 257ms/step - loss: 0.6997 - accuracy: 0.5005 - val_loss: 0.6883 - val_accuracy: 0.5450\n",
      "Epoch 2/20\n",
      "250/250 [==============================] - 64s 257ms/step - loss: 0.6858 - accuracy: 0.5683 - val_loss: 0.6652 - val_accuracy: 0.7644\n",
      "Epoch 3/20\n",
      "250/250 [==============================] - 64s 257ms/step - loss: 0.6487 - accuracy: 0.7027 - val_loss: 0.5783 - val_accuracy: 0.7140\n",
      "Epoch 4/20\n",
      "250/250 [==============================] - 64s 257ms/step - loss: 0.5384 - accuracy: 0.7860 - val_loss: 0.4713 - val_accuracy: 0.7968\n",
      "Epoch 5/20\n",
      "250/250 [==============================] - 64s 257ms/step - loss: 0.4379 - accuracy: 0.8270 - val_loss: 0.3891 - val_accuracy: 0.8600\n",
      "Epoch 6/20\n",
      "250/250 [==============================] - 64s 258ms/step - loss: 0.3739 - accuracy: 0.8573 - val_loss: 0.3515 - val_accuracy: 0.8706\n",
      "Epoch 7/20\n",
      "250/250 [==============================] - 64s 258ms/step - loss: 0.3332 - accuracy: 0.8752 - val_loss: 0.3276 - val_accuracy: 0.8766\n",
      "Epoch 8/20\n",
      "250/250 [==============================] - 64s 258ms/step - loss: 0.3076 - accuracy: 0.8803 - val_loss: 0.3093 - val_accuracy: 0.8829\n",
      "Epoch 9/20\n",
      "250/250 [==============================] - 64s 257ms/step - loss: 0.2789 - accuracy: 0.8962 - val_loss: 0.2960 - val_accuracy: 0.8874\n",
      "Epoch 10/20\n",
      "250/250 [==============================] - 64s 257ms/step - loss: 0.2744 - accuracy: 0.8972 - val_loss: 0.2889 - val_accuracy: 0.8892\n",
      "Epoch 11/20\n",
      "250/250 [==============================] - 64s 258ms/step - loss: 0.2542 - accuracy: 0.9039 - val_loss: 0.2849 - val_accuracy: 0.8906\n",
      "Epoch 12/20\n",
      "250/250 [==============================] - 64s 258ms/step - loss: 0.2431 - accuracy: 0.9066 - val_loss: 0.2768 - val_accuracy: 0.8921\n",
      "Epoch 13/20\n",
      "250/250 [==============================] - 65s 259ms/step - loss: 0.2353 - accuracy: 0.9121 - val_loss: 0.3026 - val_accuracy: 0.8817\n",
      "Epoch 14/20\n",
      "250/250 [==============================] - 65s 261ms/step - loss: 0.2281 - accuracy: 0.9114 - val_loss: 0.2732 - val_accuracy: 0.8936\n",
      "Epoch 15/20\n",
      "250/250 [==============================] - 65s 259ms/step - loss: 0.2122 - accuracy: 0.9214 - val_loss: 0.2752 - val_accuracy: 0.8932\n",
      "Epoch 16/20\n",
      "250/250 [==============================] - 64s 255ms/step - loss: 0.2084 - accuracy: 0.9220 - val_loss: 0.2779 - val_accuracy: 0.8930\n",
      "Epoch 17/20\n",
      "250/250 [==============================] - 64s 255ms/step - loss: 0.2012 - accuracy: 0.9251 - val_loss: 0.2652 - val_accuracy: 0.8974\n",
      "Epoch 18/20\n",
      "250/250 [==============================] - 65s 259ms/step - loss: 0.2003 - accuracy: 0.9249 - val_loss: 0.2664 - val_accuracy: 0.8976\n",
      "Epoch 19/20\n",
      "250/250 [==============================] - 65s 259ms/step - loss: 0.1906 - accuracy: 0.9314 - val_loss: 0.2861 - val_accuracy: 0.8875\n",
      "Epoch 20/20\n",
      "250/250 [==============================] - 64s 258ms/step - loss: 0.1895 - accuracy: 0.9296 - val_loss: 0.2661 - val_accuracy: 0.8969\n"
     ]
    }
   ],
   "source": [
    "# ----- Train model ----- trlap_e_1\n",
    "history_3 = model.fit(X_train, y_train, batch_size=128,epochs=20, validation_data=(X_val, y_val))"
   ]
  },
  {
   "cell_type": "code",
   "execution_count": 19,
   "metadata": {
    "scrolled": true
   },
   "outputs": [
    {
     "name": "stdout",
     "output_type": "stream",
     "text": [
      "Epoch 1/20\n",
      "250/250 [==============================] - 59s 237ms/step - loss: 0.6885 - accuracy: 0.5470 - val_loss: 0.6742 - val_accuracy: 0.6739\n",
      "Epoch 2/20\n",
      "250/250 [==============================] - 58s 234ms/step - loss: 0.6366 - accuracy: 0.6862 - val_loss: 0.5786 - val_accuracy: 0.7141\n",
      "Epoch 3/20\n",
      "250/250 [==============================] - 59s 236ms/step - loss: 0.4916 - accuracy: 0.8072 - val_loss: 0.4200 - val_accuracy: 0.8471\n",
      "Epoch 4/20\n",
      "250/250 [==============================] - 59s 237ms/step - loss: 0.3771 - accuracy: 0.8566 - val_loss: 0.3451 - val_accuracy: 0.8754\n",
      "Epoch 5/20\n",
      "250/250 [==============================] - 60s 238ms/step - loss: 0.3173 - accuracy: 0.8803 - val_loss: 0.3132 - val_accuracy: 0.8815\n",
      "Epoch 6/20\n",
      "250/250 [==============================] - 60s 239ms/step - loss: 0.2831 - accuracy: 0.8928 - val_loss: 0.2910 - val_accuracy: 0.8888\n",
      "Epoch 7/20\n",
      "250/250 [==============================] - 59s 237ms/step - loss: 0.2613 - accuracy: 0.9006 - val_loss: 0.2812 - val_accuracy: 0.8914\n",
      "Epoch 8/20\n",
      "250/250 [==============================] - 59s 236ms/step - loss: 0.2467 - accuracy: 0.9053 - val_loss: 0.2831 - val_accuracy: 0.8903\n",
      "Epoch 9/20\n",
      "250/250 [==============================] - 59s 237ms/step - loss: 0.2283 - accuracy: 0.9133 - val_loss: 0.2678 - val_accuracy: 0.8956\n",
      "Epoch 10/20\n",
      "250/250 [==============================] - 59s 235ms/step - loss: 0.2186 - accuracy: 0.9169 - val_loss: 0.2636 - val_accuracy: 0.8960\n",
      "Epoch 11/20\n",
      "250/250 [==============================] - 59s 236ms/step - loss: 0.2059 - accuracy: 0.9236 - val_loss: 0.2689 - val_accuracy: 0.8963\n",
      "Epoch 12/20\n",
      "250/250 [==============================] - 59s 237ms/step - loss: 0.1971 - accuracy: 0.9270 - val_loss: 0.2667 - val_accuracy: 0.8950\n",
      "Epoch 13/20\n",
      "250/250 [==============================] - 60s 238ms/step - loss: 0.1901 - accuracy: 0.9282 - val_loss: 0.2651 - val_accuracy: 0.8963\n",
      "Epoch 14/20\n",
      "250/250 [==============================] - 59s 236ms/step - loss: 0.1794 - accuracy: 0.9352 - val_loss: 0.2602 - val_accuracy: 0.8992\n",
      "Epoch 15/20\n",
      "250/250 [==============================] - 60s 238ms/step - loss: 0.1745 - accuracy: 0.9357 - val_loss: 0.2641 - val_accuracy: 0.8989\n",
      "Epoch 16/20\n",
      "250/250 [==============================] - 59s 238ms/step - loss: 0.1686 - accuracy: 0.9385 - val_loss: 0.2734 - val_accuracy: 0.8941\n",
      "Epoch 17/20\n",
      "250/250 [==============================] - 60s 239ms/step - loss: 0.1626 - accuracy: 0.9404 - val_loss: 0.2629 - val_accuracy: 0.8997\n",
      "Epoch 18/20\n",
      "250/250 [==============================] - 60s 239ms/step - loss: 0.1579 - accuracy: 0.9435 - val_loss: 0.2659 - val_accuracy: 0.8997\n",
      "Epoch 19/20\n",
      "250/250 [==============================] - 60s 240ms/step - loss: 0.1561 - accuracy: 0.9427 - val_loss: 0.2735 - val_accuracy: 0.8964\n",
      "Epoch 20/20\n",
      "250/250 [==============================] - 60s 240ms/step - loss: 0.1492 - accuracy: 0.9456 - val_loss: 0.2722 - val_accuracy: 0.9007\n"
     ]
    }
   ],
   "source": [
    "# ----- Train model ----- non-pri\n",
    "history_4 = model.fit(X_train, y_train, batch_size=128,epochs=20, validation_data=(X_val, y_val))"
   ]
  },
  {
   "cell_type": "code",
   "execution_count": 20,
   "metadata": {
    "scrolled": true
   },
   "outputs": [
    {
     "name": "stdout",
     "output_type": "stream",
     "text": [
      " \n",
      "Results\n",
      "Accuracy: 0.8976\n",
      " \n",
      "              precision    recall  f1-score   support\n",
      "\n",
      "           0       0.91      0.88      0.90      4961\n",
      "           1       0.89      0.91      0.90      5039\n",
      "\n",
      "    accuracy                           0.90     10000\n",
      "   macro avg       0.90      0.90      0.90     10000\n",
      "weighted avg       0.90      0.90      0.90     10000\n",
      "\n"
     ]
    }
   ],
   "source": [
    "# ----- Evaluate model -----\n",
    "probabilities = model.predict(X_test)\n",
    "pred = np.argmax(probabilities, axis=1)\n",
    "\n",
    "print(\" \")\n",
    "print(\"Results\")\n",
    "\n",
    "accuracy = accuracy_score(y_test, pred)\n",
    "\n",
    "print('Accuracy: {:.4f}'.format(accuracy))\n",
    "print(\" \")\n",
    "print(classification_report(y_test, pred))"
   ]
  },
  {
   "cell_type": "code",
   "execution_count": 73,
   "metadata": {},
   "outputs": [
    {
     "data": {
      "text/plain": [
       "array([[0.7416516 , 0.25834844],\n",
       "       [0.19141145, 0.80858856],\n",
       "       [0.9004606 , 0.09953937],\n",
       "       ...,\n",
       "       [0.14804488, 0.8519551 ],\n",
       "       [0.79130906, 0.20869094],\n",
       "       [0.13567327, 0.8643267 ]], dtype=float32)"
      ]
     },
     "execution_count": 73,
     "metadata": {},
     "output_type": "execute_result"
    }
   ],
   "source": []
  },
  {
   "cell_type": "code",
   "execution_count": 256,
   "metadata": {},
   "outputs": [],
   "source": [
    "def plot_history(history):\n",
    "    acc = history.history['accuracy']\n",
    "    val_acc = history.history['val_accuracy']\n",
    "    loss = history.history['loss']\n",
    "    val_loss = history.history['val_loss']\n",
    "    x = range(1, len(acc) + 1)\n",
    "\n",
    "    plt.figure(figsize=(12, 5))\n",
    "    plt.subplot(1, 2, 1)\n",
    "    plt.plot(x, acc, label='Training acc')\n",
    "    plt.plot(x, val_acc, label='Validation acc')\n",
    "    plt.title('Training and validation accuracy')\n",
    "    plt.legend()\n",
    "    plt.subplot(1, 2, 2)\n",
    "    plt.plot(x, loss, label='Training loss')\n",
    "    plt.plot(x, val_loss, label='Validation loss')\n",
    "    plt.title('Training and validation loss')\n",
    "    plt.legend()"
   ]
  },
  {
   "cell_type": "code",
   "execution_count": 257,
   "metadata": {},
   "outputs": [
    {
     "data": {
      "image/png": "[encoded data removed]",
      "text/plain": [
       "<Figure size 864x360 with 2 Axes>"
      ]
     },
     "metadata": {},
     "output_type": "display_data"
    }
   ],
   "source": [
    "plot_history(history_3)"
   ]
  },
  {
   "cell_type": "code",
   "execution_count": 295,
   "metadata": {},
   "outputs": [
    {
     "data": {
      "image/png": "[encoded data removed]",
      "text/plain": [
       "<Figure size 432x360 with 1 Axes>"
      ]
     },
     "metadata": {},
     "output_type": "display_data"
    }
   ],
   "source": [
    "acc_1 = history_1.history['accuracy']\n",
    "val_acc_1 = history_1.history['val_accuracy']\n",
    "acc_2 = history_2.history['accuracy']\n",
    "val_acc_2 = history_2.history['val_accuracy']\n",
    "acc_3 = history_3.history['accuracy']\n",
    "val_acc_3 = history_3.history['val_accuracy']\n",
    "acc_4 = history_4.history['accuracy']\n",
    "val_acc_4 = history_4.history['val_accuracy']\n",
    "# loss_1 = history_1.history['loss']\n",
    "# val_loss_1 = history_1.history['val_loss']\n",
    "x = range(1, len(acc_1) + 1)\n",
    "\n",
    "plt.figure(figsize=(6, 5))\n",
    "# plt.subplot(1, 2, 1)\n",
    "plt.plot(x, acc_1, label='Gaussian')\n",
    "#plt.plot(x, val_acc_1, 'r', label='TL_Validation acc')\n",
    "plt.plot(x, acc_2, label='Laplacian')\n",
    "#plt.plot(x, val_acc_2, 'green', label='L_Validation acc')\n",
    "plt.plot(x, acc_3, label='TrLaplacian')\n",
    "#plt.plot(x, val_acc_3, 'orange', label='None_Validation acc')\n",
    "plt.plot(x, acc_4, label='Non-private')\n",
    "#plt.plot(x, val_acc_4, 'cyan', label='G_Validation acc')\n",
    "plt.xlabel('Epoch')\n",
    "plt.ylabel('Training Accuracy')\n",
    "plt.legend()\n",
    "plt.savefig(\"Glove_e_20.png\", dpi=500,format=\"png\")"
   ]
  },
  {
   "cell_type": "code",
   "execution_count": null,
   "metadata": {},
   "outputs": [],
   "source": []
  }
 ],
 "metadata": {
  "kernelspec": {
   "display_name": "dpnlp",
   "language": "python",
   "name": "dpnlp"
  },
  "language_info": {
   "codemirror_mode": {
    "name": "ipython",
    "version": 3
   },
   "file_extension": ".py",
   "mimetype": "text/x-python",
   "name": "python",
   "nbconvert_exporter": "python",
   "pygments_lexer": "ipython3",
   "version": "3.6.13"
  }
 },
 "nbformat": 4,
 "nbformat_minor": 4
}
